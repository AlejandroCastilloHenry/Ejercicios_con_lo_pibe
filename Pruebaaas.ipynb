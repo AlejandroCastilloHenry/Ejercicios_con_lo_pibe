{
 "cells": [
  {
   "cell_type": "code",
   "execution_count": null,
   "metadata": {},
   "outputs": [],
   "source": [
    "#probandoo\n",
    "#mi primer cambio"
   ]
  },
  {
   "cell_type": "code",
   "execution_count": 1,
   "metadata": {},
   "outputs": [
    {
     "name": "stdout",
     "output_type": "stream",
     "text": [
      "{'nombre': ['maria', 'juan', 'pedro'], 'apellido': ['sosa', 'perez', 'alvarez'], 'edad': [18, 20, 50]}\n"
     ]
    }
   ],
   "source": [
    "name=['maria','juan','pedro']\n",
    "lastname=['sosa','perez','alvarez']\n",
    "age=[18,20,50]\n",
    "\n",
    "personas={'nombre':name,'apellido':lastname,'edad':age}\n",
    "print(personas)"
   ]
  },
  {
   "cell_type": "code",
   "execution_count": 12,
   "metadata": {},
   "outputs": [
    {
     "name": "stdout",
     "output_type": "stream",
     "text": [
      "lo mas std trae las keys\n",
      "nombre\n",
      "apellido\n",
      "edad\n",
      "<class 'str'>\n",
      " \n",
      "Claves : \n",
      "nombre\n",
      "apellido\n",
      "edad\n",
      "<class 'str'>\n",
      " \n",
      "todo el contenido:\n",
      "('nombre', ['maria', 'juan', 'pedro'])\n",
      "('apellido', ['sosa', 'perez', 'alvarez'])\n",
      "('edad', [18, 20, 50])\n",
      "<class 'tuple'>\n",
      " \n",
      "todo el contenido separado:\n",
      "nombre  :  ['maria', 'juan', 'pedro']\n",
      "apellido  :  ['sosa', 'perez', 'alvarez']\n",
      "edad  :  [18, 20, 50]\n",
      "<class 'str'>\n",
      "<class 'list'>\n"
     ]
    }
   ],
   "source": [
    "print(\"lo mas std trae las keys\")\n",
    "for x in personas:\n",
    "    print(x)\n",
    "print(type(x))\n",
    "print(\" \")\n",
    "\n",
    "print(\"Valores :\")\n",
    "for x in personas.values():\n",
    "    print(x)\n",
    "print(type(x))\n",
    "print(\" \")\n",
    "\n",
    "print(\"Claves : \")\n",
    "for x in personas.keys():\n",
    "    print(x)\n",
    "print(type(x))\n",
    "print(\" \")    \n",
    "\n",
    "print(\"todo el contenido:\")\n",
    "for x in personas.items():\n",
    "    print(x)\n",
    "print(type(x))\n",
    "print(\" \")\n",
    "\n",
    "print(\"todo el contenido separado:\")\n",
    "for x,y in personas.items():\n",
    "    print(x, \" : \",y)\n",
    "print(type(x))\n",
    "print(type(y))"
   ]
  },
  {
   "cell_type": "code",
   "execution_count": 4,
   "metadata": {},
   "outputs": [],
   "source": [
    "#agrego una nueva clave son sus respectivos valores\n",
    "personas['iniciales']=['ms','jp','pa']"
   ]
  },
  {
   "cell_type": "code",
   "execution_count": 6,
   "metadata": {},
   "outputs": [],
   "source": [
    "del personas['iniciales']"
   ]
  }
 ],
 "metadata": {
  "kernelspec": {
   "display_name": "Python 3",
   "language": "python",
   "name": "python3"
  },
  "language_info": {
   "codemirror_mode": {
    "name": "ipython",
    "version": 3
   },
   "file_extension": ".py",
   "mimetype": "text/x-python",
   "name": "python",
   "nbconvert_exporter": "python",
   "pygments_lexer": "ipython3",
   "version": "3.10.11"
  },
  "orig_nbformat": 4
 },
 "nbformat": 4,
 "nbformat_minor": 2
}
